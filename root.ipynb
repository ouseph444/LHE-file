{
 "cells": [
  {
   "cell_type": "code",
   "execution_count": 1,
   "metadata": {},
   "outputs": [
    {
     "name": "stdout",
     "output_type": "stream",
     "text": [
      "Welcome to JupyROOT 6.20/04\n"
     ]
    }
   ],
   "source": [
    "import uproot\n",
    "import pandas as pd\n",
    "import numpy as np\n",
    "import matplotlib.pyplot\n",
    "import os\n",
    "import ROOT\n",
    "import pylhe\n",
    "import heapq\n",
    "import matplotlib.pyplot as plt\n",
    "import math"
   ]
  },
  {
   "cell_type": "code",
   "execution_count": 2,
   "metadata": {},
   "outputs": [],
   "source": [
    "# Invariant mass photon\n",
    "def in_mass1(pT1, phi1, eta1, m1, pT2, phi2, eta2, m2):\n",
    "    # Calculate the components for the first particle\n",
    "    Px1 = pT1 * np.cos(phi1)\n",
    "    Py1 = pT1 * np.sin(phi1)\n",
    "    Pz1 = pT1 * np.sinh(eta1)\n",
    "    E1 = m1\n",
    "    \n",
    "    # Calculate the components for the second particle\n",
    "    Px2 = pT2 * np.cos(phi2)\n",
    "    Py2 = pT2 * np.sin(phi2)\n",
    "    Pz2 = pT2 * np.sinh(eta2)\n",
    "    E2 = m2\n",
    "    \n",
    "    # Sum the components\n",
    "    Px_total = Px1 + Px2\n",
    "    Py_total = Py1 + Py2\n",
    "    Pz_total = Pz1 + Pz2\n",
    "    E_total = E1 + E2\n",
    "    \n",
    "    # Calculate the invariant mass\n",
    "    M = E_total**2 - (Px_total**2 + Py_total**2 + Pz_total**2)\n",
    "    if M < 0:\n",
    "        return 0.0  # In case of numerical precision issues\n",
    "    return np.sqrt(M)\n",
    "\n",
    "\n",
    "# Invariant mass bl\n",
    "\n",
    "\n",
    "def in_Mbl(pT1, phi1, eta1, m1, pT2, phi2, eta2, m2):\n",
    "    # Calculate the components for the first particle\n",
    "    Px1 = pT1 * np.cos(phi1)\n",
    "    Py1 = pT1 * np.sin(phi1)\n",
    "    Pz1 = pT1 * np.sinh(eta1)\n",
    "    E1 = np.sqrt(m1**2 + Px1**2 + Py1**2 + Pz1**2)\n",
    "    \n",
    "    # Calculate the components for the second particle\n",
    "    Px2 = pT2 * np.cos(phi2)\n",
    "    Py2 = pT2 * np.sin(phi2)\n",
    "    Pz2 = pT2 * np.sinh(eta2)\n",
    "    E2 = np.sqrt(m2**2 + Px2**2 + Py2**2 + Pz2**2)\n",
    "    \n",
    "    # Sum the components\n",
    "    Px_total = Px1 + Px2\n",
    "    Py_total = Py1 + Py2\n",
    "    Pz_total = Pz1 + Pz2\n",
    "    E_total = E1 + E2\n",
    "    \n",
    "    # Calculate the invariant mass\n",
    "    M = E_total**2 - (Px_total**2 + Py_total**2 + Pz_total**2)\n",
    "    if M < 0:\n",
    "        return 0.0  # In case of numerical precision issues\n",
    "    return np.sqrt(M)\n",
    "\n",
    "\n",
    "\n",
    "\n",
    "\n",
    "\n",
    "\n",
    "\n",
    "def dR(phi1,phi2,eta1,eta2):\n",
    "    return np.sqrt((phi1-phi2)**2+(eta1-eta2)**2)\n",
    "\n",
    "\n",
    "\n",
    "\n",
    "Me = 0.000511\n",
    "Mm = 0.10566\n",
    "Mb = 4.7"
   ]
  },
  {
   "cell_type": "code",
   "execution_count": 3,
   "metadata": {},
   "outputs": [
    {
     "data": {
      "text/plain": [
       "'df_b = pd.DataFrame({\\n    \"Pb\": Pt_b,\\n    \"Etab\": Eta_b,\\n    \"Phib\": Phi_b\\n})'"
      ]
     },
     "execution_count": 3,
     "metadata": {},
     "output_type": "execute_result"
    }
   ],
   "source": [
    "data=uproot.open(\"/docker_workplace/ALP_Detec/BG2/Events/run_01/tag_2_delphes_events.root\")[\"Delphes\"]\n",
    "\n",
    "# Create DataFrames for photons, electrons, and muons\n",
    "df_jet = pd.DataFrame({\n",
    "    \"Pj\": pd.DataFrame(data[\"Jet.PT\"].array())[0],\n",
    "    \"Etaj\": pd.DataFrame(data[\"Jet.Eta\"].array())[0],\n",
    "    \"Phij\": pd.DataFrame(data[\"Jet.Phi\"].array())[0]\n",
    "    \n",
    "})\n",
    "\n",
    "df_photon = pd.DataFrame({\n",
    "    \"Pa1\": pd.DataFrame(data[\"Photon.PT\"].array())[0],\n",
    "    \"Etaa1\": pd.DataFrame(data[\"Photon.Eta\"].array())[0],\n",
    "    \"Phia1\": pd.DataFrame(data[\"Photon.Phi\"].array())[0],\n",
    "    \"Ea1\": pd.DataFrame(data[\"Photon.E\"].array())[0],\n",
    "    \"Pa2\": pd.DataFrame(data[\"Photon.PT\"].array())[1],\n",
    "    \"Etaa2\": pd.DataFrame(data[\"Photon.Eta\"].array())[1],\n",
    "    \"Phia2\": pd.DataFrame(data[\"Photon.Phi\"].array())[1],\n",
    "    \"Ea2\": pd.DataFrame(data[\"Photon.E\"].array())[1],\n",
    "})\n",
    "\n",
    "\n",
    "df_e = pd.DataFrame({\n",
    "    \"Pl\": pd.DataFrame(data[\"Electron.PT\"].array())[0],\n",
    "    \"Etal\": pd.DataFrame(data[\"Electron.Eta\"].array())[0],\n",
    "    \"Phil\": pd.DataFrame(data[\"Electron.Phi\"].array())[0]\n",
    "})\n",
    "\n",
    "df_m = pd.DataFrame({\n",
    "    \"Pl\": pd.DataFrame(data[\"Muon.PT\"].array())[0],\n",
    "    \"Etal\": pd.DataFrame(data[\"Muon.Eta\"].array())[0],\n",
    "    \"Phil\": pd.DataFrame(data[\"Muon.Phi\"].array())[0]\n",
    "})\n",
    "\n",
    "\n",
    "\n",
    "df_c = df_e.fillna(df_m)\n",
    "\n",
    "\n",
    "pt_1 = data[\"Jet.PT\"].array()\n",
    "eta_1 = data[\"Jet.Eta\"].array()\n",
    "phi_1 = data[\"Jet.Phi\"].array()\n",
    "flavor_1 = data[\"Jet.Flavor\"].array()\n",
    "btag_1 = data[\"Jet.BTag\"].array()\n",
    "\n",
    "\n",
    "b_jets = btag_1 == 1\n",
    "pt_b = pt_1[b_jets]\n",
    "eta_b = eta_1[b_jets]\n",
    "phi_b = phi_1[b_jets]\n",
    "\n",
    "Pt_b = [tup[0] if len(tup) > 0 else None for tup in pt_b]\n",
    "Eta_b =[tup[0] if len(tup) > 0 else None for tup in eta_b]\n",
    "Phi_b= [tup[0] if len(tup) > 0 else None for tup in phi_b]\n",
    "\n",
    "\n",
    "df_b = pd.DataFrame({\n",
    "    \n",
    "    \"Pb\": pd.DataFrame(data[\"Jet.PT\"].array())[1],\n",
    "    \"Etab\": pd.DataFrame(data[\"Jet.Eta\"].array())[1],\n",
    "    \"Phib\": pd.DataFrame(data[\"Jet.Phi\"].array())[1]\n",
    "    \n",
    "})\n",
    "\n",
    "\n",
    "\"\"\"df_b = pd.DataFrame({\n",
    "    \"Pb\": Pt_b,\n",
    "    \"Etab\": Eta_b,\n",
    "    \"Phib\": Phi_b\n",
    "})\"\"\"\n"
   ]
  },
  {
   "cell_type": "code",
   "execution_count": 4,
   "metadata": {},
   "outputs": [
    {
     "data": {
      "text/plain": [
       "5000"
      ]
     },
     "execution_count": 4,
     "metadata": {},
     "output_type": "execute_result"
    }
   ],
   "source": [
    "len(df_jet)"
   ]
  },
  {
   "cell_type": "code",
   "execution_count": 5,
   "metadata": {},
   "outputs": [],
   "source": [
    "# Initialize empty arrays to store individual elements\n",
    "Pb_array = []\n",
    "Etab_array = []\n",
    "Phib_array = []\n",
    "\n",
    "# Iterate through each row in df_b and extract values into arrays\n",
    "for index, row in df_b.iterrows():\n",
    "    Pb_array.append(row['Pb'])\n",
    "    Etab_array.append(row['Etab'])\n",
    "    Phib_array.append(row['Phib'])\n",
    "\n",
    "# Convert lists to numpy arrays if needed\n",
    "Pb_array = np.array(Pb_array)\n",
    "Etab_array = np.array(Etab_array)\n",
    "Phib_array = np.array(Phib_array)"
   ]
  },
  {
   "cell_type": "code",
   "execution_count": 6,
   "metadata": {},
   "outputs": [],
   "source": [
    "Pl_array = []\n",
    "Etal_array = []\n",
    "Phil_array = []\n",
    "\n",
    "# Iterate through each row in df_c and extract values into arrays\n",
    "for index, row in df_c.iterrows():\n",
    "    Pl_array.append(row['Pl'])\n",
    "    Etal_array.append(row['Etal'])\n",
    "    Phil_array.append(row['Phil'])\n",
    "\n",
    "# Convert lists to numpy arrays if needed\n",
    "Pl_array = np.array(Pl_array)\n",
    "Etal_array = np.array(Etal_array)\n",
    "Phil_array = np.array(Phil_array)"
   ]
  },
  {
   "cell_type": "code",
   "execution_count": 7,
   "metadata": {},
   "outputs": [],
   "source": [
    "Mbl_e=[]\n",
    "for i in range(len(Pl_array)):\n",
    "    Mbl_e.append(in_Mbl(Pb_array[i], Phib_array[i], Etab_array[i], Mb, Pl_array[i], Phil_array[i], Etal_array[i], Me))"
   ]
  },
  {
   "cell_type": "code",
   "execution_count": 8,
   "metadata": {},
   "outputs": [
    {
     "name": "stderr",
     "output_type": "stream",
     "text": [
      "/usr/local/lib/python3.8/dist-packages/numpy/lib/histograms.py:839: RuntimeWarning: invalid value encountered in greater_equal\n",
      "  keep = (tmp_a >= first_edge)\n",
      "/usr/local/lib/python3.8/dist-packages/numpy/lib/histograms.py:840: RuntimeWarning: invalid value encountered in less_equal\n",
      "  keep &= (tmp_a <= last_edge)\n"
     ]
    },
    {
     "data": {
      "image/png": "[encoded data removed]",
      "text/plain": [
       "<Figure size 576x432 with 1 Axes>"
      ]
     },
     "metadata": {
      "needs_background": "light"
     },
     "output_type": "display_data"
    }
   ],
   "source": [
    "bins = 60\n",
    "fs=18 # front size\n",
    "tagsize = 18 # label tag size\n",
    "plt.figure(figsize=(8,6)) # plotsize\n",
    "x1, x2 = 0, 250 # x region\n",
    "\n",
    "#1 subplot\n",
    "plt.hist(Mbl_e, bins=bins, histtype='step',density=True,range=[x1, x2], label='sig')\n",
    "\n",
    "plt.legend(fontsize=13,loc='upper left') # plot label tag\n",
    "plt.yscale('log') \n",
    "#plt.xscale('log')\n",
    "plt.xlabel('$\\\\rm M_{bl}~[GeV]$' , fontsize=fs)  # plot x-axis label\n",
    "plt.ylabel(\"Events\", fontsize=fs)  # plot y-axis label\n",
    "plt.xticks(fontsize=fs)   # set x-ticks size\n",
    "plt.yticks(fontsize=fs)   # set y-ticks size\n",
    "plt.xlim(0,250)\n",
    "#plt.ylim(0,0.45)\n",
    "plt.title(\"$\\\\rm M_{a}=50~GeV$\")\n",
    "plt.tight_layout()\n",
    "\n",
    "plt.grid()"
   ]
  },
  {
   "cell_type": "code",
   "execution_count": 9,
   "metadata": {},
   "outputs": [],
   "source": [
    "Pa1_array = df_photon[\"Pa1\"].to_numpy()\n",
    "Etaa1_array = df_photon[\"Etaa1\"].to_numpy()\n",
    "Phia1_array = df_photon[\"Phia1\"].to_numpy()\n",
    "Ea1_array = df_photon[\"Ea1\"].to_numpy()\n",
    "Pa2_array = df_photon[\"Pa2\"].to_numpy()\n",
    "Etaa2_array = df_photon[\"Etaa2\"].to_numpy()\n",
    "Phia2_array = df_photon[\"Phia2\"].to_numpy()\n",
    "Ea2_array = df_photon[\"Ea2\"].to_numpy()"
   ]
  },
  {
   "cell_type": "code",
   "execution_count": 10,
   "metadata": {},
   "outputs": [],
   "source": [
    "Maa_a = []\n",
    "\n",
    "# Iterate through the length of the photon arrays and compute invariant masses\n",
    "for i in range(len(Pa1_array)):\n",
    "    Maa_a.append(in_mass1(\n",
    "        Pa1_array[i], Phia1_array[i], Etaa1_array[i], Ea1_array[i],  # First photon\n",
    "        Pa2_array[i], Phia2_array[i], Etaa2_array[i], Ea2_array[i]   # Second photon\n",
    "    ))"
   ]
  },
  {
   "cell_type": "code",
   "execution_count": 11,
   "metadata": {},
   "outputs": [
    {
     "name": "stderr",
     "output_type": "stream",
     "text": [
      "/usr/local/lib/python3.8/dist-packages/numpy/lib/histograms.py:839: RuntimeWarning: invalid value encountered in greater_equal\n",
      "  keep = (tmp_a >= first_edge)\n",
      "/usr/local/lib/python3.8/dist-packages/numpy/lib/histograms.py:840: RuntimeWarning: invalid value encountered in less_equal\n",
      "  keep &= (tmp_a <= last_edge)\n"
     ]
    },
    {
     "data": {
      "image/png": "[encoded data removed]",
      "text/plain": [
       "<Figure size 576x432 with 1 Axes>"
      ]
     },
     "metadata": {
      "needs_background": "light"
     },
     "output_type": "display_data"
    }
   ],
   "source": [
    "bins = 60\n",
    "fs=18 # front size\n",
    "tagsize = 18 # label tag size\n",
    "plt.figure(figsize=(8,6)) # plotsize\n",
    "x1, x2 = 0, 400 # x region\n",
    "\n",
    "#1 subplot\n",
    "plt.hist(df_photon[\"Pa1\"], bins=bins, histtype='step',density=True,range=[x1, x2], label='Sig')\n",
    "plt.legend(fontsize=13,loc='upper left') # plot label tag\n",
    "#plt.yscale('log') \n",
    "#plt.xscale('log')\n",
    "plt.xlabel('$\\\\rm Pt_\\\\gamma^{leading}~[GeV]$' , fontsize=fs)  # plot x-axis label\n",
    "plt.ylabel(\"Events\", fontsize=fs)  # plot y-axis label\n",
    "plt.xticks(fontsize=fs)   # set x-ticks size\n",
    "plt.yticks(fontsize=fs)   # set y-ticks size\n",
    "plt.xlim(0,400)\n",
    "#plt.ylim(0,0.45)\n",
    "plt.title(\"$\\\\rm M_{a}=50~GeV$\")\n",
    "plt.tight_layout()\n",
    "\n",
    "plt.grid()"
   ]
  },
  {
   "cell_type": "code",
   "execution_count": 12,
   "metadata": {},
   "outputs": [],
   "source": [
    "dRbl=[]\n",
    "for i in range(len(Pa1_array)):\n",
    "    dRbl.append(dR(Phib_array[i],Phil_array[i],Etab_array[i],Etal_array[i]))\n",
    "    \n",
    "dRbj=[]\n",
    "for i in range(len(Pa1_array)):\n",
    "    dRbj.append(dR(Phib_array[i],np.array(df_jet[\"Pj\"])[i], Etab_array[i], np.array(df_jet[\"Etaj\"])[i]))\n",
    "    \n",
    "dRba=[]\n",
    "for i in range(len(Pa1_array)):\n",
    "    dRba.append(dR(Phib_array[i], Phia1_array[i], Etab_array[i], Etaa1_array[i]))\n",
    "    \n",
    "dRla=[]\n",
    "for i in range(len(Pa1_array)):\n",
    "    dRla.append(dR(Phil_array[i], Phia1_array[i], Etal_array[i], Etaa1_array[i]))\n",
    "    "
   ]
  },
  {
   "cell_type": "code",
   "execution_count": 13,
   "metadata": {},
   "outputs": [
    {
     "name": "stderr",
     "output_type": "stream",
     "text": [
      "/usr/local/lib/python3.8/dist-packages/numpy/lib/histograms.py:839: RuntimeWarning: invalid value encountered in greater_equal\n",
      "  keep = (tmp_a >= first_edge)\n",
      "/usr/local/lib/python3.8/dist-packages/numpy/lib/histograms.py:840: RuntimeWarning: invalid value encountered in less_equal\n",
      "  keep &= (tmp_a <= last_edge)\n"
     ]
    },
    {
     "data": {
      "image/png": "[encoded data removed]",
      "text/plain": [
       "<Figure size 576x432 with 1 Axes>"
      ]
     },
     "metadata": {
      "needs_background": "light"
     },
     "output_type": "display_data"
    }
   ],
   "source": [
    "bins = 50\n",
    "fs=18 # front size\n",
    "tagsize = 18 # label tag size\n",
    "plt.figure(figsize=(8,6)) # plotsize\n",
    "x1, x2 = 0,5 # x region\n",
    "\n",
    "#1 subplot\n",
    "plt.hist(dRbl, bins=bins, histtype='step',density=True,range=[x1, x2], label='Sig')\n",
    "plt.legend(fontsize=13,loc='upper left') # plot label tag\n",
    "#plt.yscale('log') \n",
    "#plt.xscale('log')\n",
    "plt.xlabel('$\\\\Delta R_{bl}$' , fontsize=fs)  # plot x-axis label\n",
    "plt.ylabel(\"Events\", fontsize=fs)  # plot y-axis label\n",
    "plt.xticks(fontsize=fs)   # set x-ticks size\n",
    "plt.yticks(fontsize=fs)   # set y-ticks size\n",
    "plt.xlim(0,5)\n",
    "#plt.ylim(0,0.45)\n",
    "plt.title(\"$\\\\rm M_{a}=50~GeV$\")\n",
    "plt.tight_layout()\n",
    "\n",
    "plt.grid()"
   ]
  },
  {
   "cell_type": "code",
   "execution_count": 14,
   "metadata": {},
   "outputs": [
    {
     "name": "stderr",
     "output_type": "stream",
     "text": [
      "/usr/local/lib/python3.8/dist-packages/numpy/lib/histograms.py:839: RuntimeWarning: invalid value encountered in greater_equal\n",
      "  keep = (tmp_a >= first_edge)\n",
      "/usr/local/lib/python3.8/dist-packages/numpy/lib/histograms.py:840: RuntimeWarning: invalid value encountered in less_equal\n",
      "  keep &= (tmp_a <= last_edge)\n"
     ]
    },
    {
     "data": {
      "image/png": "[encoded data removed]",
      "text/plain": [
       "<Figure size 576x432 with 1 Axes>"
      ]
     },
     "metadata": {
      "needs_background": "light"
     },
     "output_type": "display_data"
    }
   ],
   "source": [
    "bins = 60\n",
    "fs=18 # front size\n",
    "tagsize = 18 # label tag size\n",
    "plt.figure(figsize=(8,6)) # plotsize\n",
    "x1, x2 = 0,200 # x region\n",
    "\n",
    "#1 subplot\n",
    "plt.hist(dRbj, bins=bins, histtype='step',density=True,range=[x1, x2], label='Sig')\n",
    "plt.legend(fontsize=13,loc='upper left') # plot label tag\n",
    "#plt.yscale('log') \n",
    "#plt.xscale('log')\n",
    "plt.xlabel('$\\\\Delta R_{bj}$' , fontsize=fs)  # plot x-axis label\n",
    "plt.ylabel(\"Events\", fontsize=fs)  # plot y-axis label\n",
    "plt.xticks(fontsize=fs)   # set x-ticks size\n",
    "plt.yticks(fontsize=fs)   # set y-ticks size\n",
    "#plt.xlim(0,5)\n",
    "#plt.ylim(0,0.45)\n",
    "plt.title(\"$\\\\rm M_{a}=50~GeV$\")\n",
    "plt.tight_layout()\n",
    "\n",
    "plt.grid()"
   ]
  },
  {
   "cell_type": "code",
   "execution_count": 15,
   "metadata": {},
   "outputs": [
    {
     "name": "stderr",
     "output_type": "stream",
     "text": [
      "/usr/local/lib/python3.8/dist-packages/numpy/lib/histograms.py:839: RuntimeWarning: invalid value encountered in greater_equal\n",
      "  keep = (tmp_a >= first_edge)\n",
      "/usr/local/lib/python3.8/dist-packages/numpy/lib/histograms.py:840: RuntimeWarning: invalid value encountered in less_equal\n",
      "  keep &= (tmp_a <= last_edge)\n"
     ]
    },
    {
     "data": {
      "image/png": "[encoded data removed]",
      "text/plain": [
       "<Figure size 576x432 with 1 Axes>"
      ]
     },
     "metadata": {
      "needs_background": "light"
     },
     "output_type": "display_data"
    }
   ],
   "source": [
    "bins = 60\n",
    "fs=18 # front size\n",
    "tagsize = 18 # label tag size\n",
    "plt.figure(figsize=(8,6)) # plotsize\n",
    "x1, x2 = 0,5 # x region\n",
    "\n",
    "#1 subplot\n",
    "plt.hist(dRba, bins=bins, histtype='step',density=True,range=[x1, x2], label='Sig')\n",
    "plt.legend(fontsize=13,loc='upper left') # plot label tag\n",
    "#plt.yscale('log') \n",
    "#plt.xscale('log')\n",
    "plt.xlabel('$\\\\Delta R_{bj}$' , fontsize=fs)  # plot x-axis label\n",
    "plt.ylabel(\"Events\", fontsize=fs)  # plot y-axis label\n",
    "plt.xticks(fontsize=fs)   # set x-ticks size\n",
    "plt.yticks(fontsize=fs)   # set y-ticks size\n",
    "#plt.xlim(0,5)\n",
    "#plt.ylim(0,0.45)\n",
    "plt.title(\"$\\\\rm M_{a}=50~GeV$\")\n",
    "plt.tight_layout()\n",
    "\n",
    "plt.grid()"
   ]
  },
  {
   "cell_type": "code",
   "execution_count": 16,
   "metadata": {},
   "outputs": [
    {
     "name": "stderr",
     "output_type": "stream",
     "text": [
      "/usr/local/lib/python3.8/dist-packages/numpy/lib/histograms.py:839: RuntimeWarning: invalid value encountered in greater_equal\n",
      "  keep = (tmp_a >= first_edge)\n",
      "/usr/local/lib/python3.8/dist-packages/numpy/lib/histograms.py:840: RuntimeWarning: invalid value encountered in less_equal\n",
      "  keep &= (tmp_a <= last_edge)\n"
     ]
    },
    {
     "data": {
      "image/png": "[encoded data removed]",
      "text/plain": [
       "<Figure size 576x432 with 1 Axes>"
      ]
     },
     "metadata": {
      "needs_background": "light"
     },
     "output_type": "display_data"
    }
   ],
   "source": [
    "bins = 60\n",
    "fs=18 # front size\n",
    "tagsize = 18 # label tag size\n",
    "plt.figure(figsize=(8,6)) # plotsize\n",
    "x1, x2 = 0, 250 # x region\n",
    "\n",
    "#1 subplot\n",
    "plt.hist(Maa_a, bins=bins, histtype='step',density=True,range=[x1, x2], label='sig')\n",
    "\n",
    "plt.legend(fontsize=13,loc='upper left') # plot label tag\n",
    "plt.yscale('log') \n",
    "#plt.xscale('log')\n",
    "plt.xlabel('$\\\\rm M_{bl}~[GeV]$' , fontsize=fs)  # plot x-axis label\n",
    "plt.ylabel(\"Events\", fontsize=fs)  # plot y-axis label\n",
    "plt.xticks(fontsize=fs)   # set x-ticks size\n",
    "plt.yticks(fontsize=fs)   # set y-ticks size\n",
    "plt.xlim(0,250)\n",
    "#plt.ylim(0,0.45)\n",
    "plt.title(\"$\\\\rm M_{a}=50~GeV$\")\n",
    "plt.tight_layout()\n",
    "\n",
    "plt.grid()"
   ]
  },
  {
   "cell_type": "code",
   "execution_count": 17,
   "metadata": {},
   "outputs": [
    {
     "name": "stderr",
     "output_type": "stream",
     "text": [
      "/usr/local/lib/python3.8/dist-packages/numpy/lib/histograms.py:839: RuntimeWarning: invalid value encountered in greater_equal\n",
      "  keep = (tmp_a >= first_edge)\n",
      "/usr/local/lib/python3.8/dist-packages/numpy/lib/histograms.py:840: RuntimeWarning: invalid value encountered in less_equal\n",
      "  keep &= (tmp_a <= last_edge)\n",
      "/usr/local/lib/python3.8/dist-packages/numpy/lib/histograms.py:839: RuntimeWarning: invalid value encountered in greater_equal\n",
      "  keep = (tmp_a >= first_edge)\n",
      "/usr/local/lib/python3.8/dist-packages/numpy/lib/histograms.py:840: RuntimeWarning: invalid value encountered in less_equal\n",
      "  keep &= (tmp_a <= last_edge)\n",
      "/usr/local/lib/python3.8/dist-packages/numpy/lib/histograms.py:839: RuntimeWarning: invalid value encountered in greater_equal\n",
      "  keep = (tmp_a >= first_edge)\n",
      "/usr/local/lib/python3.8/dist-packages/numpy/lib/histograms.py:840: RuntimeWarning: invalid value encountered in less_equal\n",
      "  keep &= (tmp_a <= last_edge)\n"
     ]
    },
    {
     "data": {
      "image/png": "[encoded data removed]",
      "text/plain": [
       "<Figure size 576x432 with 1 Axes>"
      ]
     },
     "metadata": {
      "needs_background": "light"
     },
     "output_type": "display_data"
    }
   ],
   "source": [
    "bins = 60\n",
    "fs=18 # front size\n",
    "tagsize = 18 # label tag size\n",
    "plt.figure(figsize=(8,6)) # plotsize\n",
    "x1, x2 = -4, 4 # x region\n",
    "\n",
    "#1 subplot\n",
    "#plt.hist(df_photon[\"Etaa1\"], bins=bins, histtype='step',density=True,range=[x1, x2], label='Sig-ph')\n",
    "plt.hist(df_b[\"Etab\"], bins=bins, histtype='step',density=True,range=[x1, x2], label='Sig-b')\n",
    "plt.hist(df_jet[\"Etaj\"], bins=bins, histtype='step',density=True,range=[x1, x2], label='Sig')\n",
    "plt.hist(Etal_array, bins=bins, histtype='step',density=True,range=[x1, x2], label='Sig-l')\n",
    "\n",
    "\n",
    "\n",
    "plt.legend(fontsize=13,loc='upper left') # plot label tag\n",
    "#plt.yscale('log') \n",
    "#plt.xscale('log')\n",
    "plt.xlabel('$\\\\rm \\\\eta_\\\\gamma^{leading}$' , fontsize=fs)  # plot x-axis label\n",
    "plt.ylabel(\"Events\", fontsize=fs)  # plot y-axis label\n",
    "plt.xticks(fontsize=fs)   # set x-ticks size\n",
    "plt.yticks(fontsize=fs)   # set y-ticks size\n",
    "plt.xlim(-4,4)\n",
    "#plt.ylim(0,0.45)\n",
    "plt.title(\"$\\\\rm M_{a}=50~GeV$\")\n",
    "plt.tight_layout()\n",
    "\n",
    "plt.grid()"
   ]
  },
  {
   "cell_type": "code",
   "execution_count": 18,
   "metadata": {},
   "outputs": [
    {
     "name": "stderr",
     "output_type": "stream",
     "text": [
      "/usr/local/lib/python3.8/dist-packages/numpy/lib/histograms.py:839: RuntimeWarning: invalid value encountered in greater_equal\n",
      "  keep = (tmp_a >= first_edge)\n",
      "/usr/local/lib/python3.8/dist-packages/numpy/lib/histograms.py:840: RuntimeWarning: invalid value encountered in less_equal\n",
      "  keep &= (tmp_a <= last_edge)\n",
      "/usr/local/lib/python3.8/dist-packages/numpy/lib/histograms.py:839: RuntimeWarning: invalid value encountered in greater_equal\n",
      "  keep = (tmp_a >= first_edge)\n",
      "/usr/local/lib/python3.8/dist-packages/numpy/lib/histograms.py:840: RuntimeWarning: invalid value encountered in less_equal\n",
      "  keep &= (tmp_a <= last_edge)\n",
      "/usr/local/lib/python3.8/dist-packages/numpy/lib/histograms.py:839: RuntimeWarning: invalid value encountered in greater_equal\n",
      "  keep = (tmp_a >= first_edge)\n",
      "/usr/local/lib/python3.8/dist-packages/numpy/lib/histograms.py:840: RuntimeWarning: invalid value encountered in less_equal\n",
      "  keep &= (tmp_a <= last_edge)\n"
     ]
    },
    {
     "data": {
      "image/png": "[encoded data removed]",
      "text/plain": [
       "<Figure size 576x432 with 1 Axes>"
      ]
     },
     "metadata": {
      "needs_background": "light"
     },
     "output_type": "display_data"
    }
   ],
   "source": [
    "bins = 60\n",
    "fs=18 # front size\n",
    "tagsize = 18 # label tag size\n",
    "plt.figure(figsize=(8,6)) # plotsize\n",
    "x1, x2 = -4, 4 # x region\n",
    "\n",
    "#1 subplot\n",
    "plt.hist(df_b[\"Phib\"], bins=bins, histtype='step',density=True,range=[x1, x2], label='Sig-b')\n",
    "plt.hist(df_jet[\"Phij\"], bins=bins, histtype='step',density=True,range=[x1, x2], label='Sig-b')\n",
    "plt.hist(Phil_array, bins=bins, histtype='step',density=True,range=[x1, x2], label='Sig-l')\n",
    "\n",
    "plt.legend(fontsize=13,loc='upper left') # plot label tag\n",
    "#plt.yscale('log') \n",
    "#plt.xscale('log')\n",
    "plt.xlabel('$\\\\rm \\\\eta_b}$' , fontsize=fs)  # plot x-axis label\n",
    "plt.ylabel(\"Events\", fontsize=fs)  # plot y-axis label\n",
    "plt.xticks(fontsize=fs)   # set x-ticks size\n",
    "plt.yticks(fontsize=fs)   # set y-ticks size\n",
    "plt.xlim(-4,4)\n",
    "#plt.ylim(0,0.45)\n",
    "plt.title(\"$\\\\rm M_{a}=50~GeV$\")\n",
    "plt.tight_layout()\n",
    "\n",
    "plt.grid()"
   ]
  },
  {
   "cell_type": "code",
   "execution_count": 19,
   "metadata": {},
   "outputs": [
    {
     "name": "stderr",
     "output_type": "stream",
     "text": [
      "/usr/local/lib/python3.8/dist-packages/numpy/lib/histograms.py:839: RuntimeWarning: invalid value encountered in greater_equal\n",
      "  keep = (tmp_a >= first_edge)\n",
      "/usr/local/lib/python3.8/dist-packages/numpy/lib/histograms.py:840: RuntimeWarning: invalid value encountered in less_equal\n",
      "  keep &= (tmp_a <= last_edge)\n"
     ]
    },
    {
     "data": {
      "image/png": "[encoded data removed]",
      "text/plain": [
       "<Figure size 576x432 with 1 Axes>"
      ]
     },
     "metadata": {
      "needs_background": "light"
     },
     "output_type": "display_data"
    }
   ],
   "source": [
    "bins = 60\n",
    "fs=18 # front size\n",
    "tagsize = 18 # label tag size\n",
    "plt.figure(figsize=(8,6)) # plotsize\n",
    "x1, x2 = 0,250 # x region\n",
    "\n",
    "#1 subplot\n",
    "plt.hist(Maa_a, bins=bins, histtype='step',density=True,range=[x1, x2], label='Sig')\n",
    "plt.legend(fontsize=13,loc='upper left') # plot label tag\n",
    "#plt.yscale('log') \n",
    "#plt.xscale('log')\n",
    "plt.xlabel('$\\\\rm M_{\\\\gamma\\\\gamma}~[GeV]$' , fontsize=fs)  # plot x-axis label\n",
    "plt.ylabel(\"Events\", fontsize=fs)  # plot y-axis label\n",
    "plt.xticks(fontsize=fs)   # set x-ticks size\n",
    "plt.yticks(fontsize=fs)   # set y-ticks size\n",
    "plt.xlim(0,250)\n",
    "#plt.ylim(0,0.45)\n",
    "plt.title(\"$\\\\rm M_{a}=50~GeV$\")\n",
    "plt.tight_layout()\n",
    "\n",
    "plt.grid()"
   ]
  },
  {
   "cell_type": "code",
   "execution_count": 20,
   "metadata": {},
   "outputs": [],
   "source": [
    "BG_2=pd.DataFrame({  \n",
    "    \n",
    "    \"Pj\": pd.DataFrame(data[\"Jet.PT\"].array())[0],\n",
    "    \"Etaj\": pd.DataFrame(data[\"Jet.Eta\"].array())[0],\n",
    "    \"Phij\": pd.DataFrame(data[\"Jet.Phi\"].array())[0],\n",
    "    \"Pa1\": pd.DataFrame(data[\"Photon.PT\"].array())[0],\n",
    "    \"Etaa1\": pd.DataFrame(data[\"Photon.Eta\"].array())[0],\n",
    "    \"Phia1\": pd.DataFrame(data[\"Photon.Phi\"].array())[0],\n",
    "    \"Pl\":Pl_array,\n",
    "    \"Etal\":Etal_array,\n",
    "    \"Phil\":Phil_array,\n",
    "    \"Pb\":df_b[\"Pb\"],\n",
    "    \"Etab\":df_b[\"Etab\"],\n",
    "    \"Phib\":df_b[\"Phib\"],\n",
    "    \"Mbl\":Mbl_e,\n",
    "    \"Maa\":Maa_a,\n",
    "    \"DRbl\":dRbl,\n",
    "    \"DRba\":dRba,\n",
    "    \"DRbj\":dRbj,\n",
    "    \"DRla\":dRla })\n",
    "    \n",
    "    \n",
    "    \n",
    "    \n",
    "    \n",
    "  \n",
    "\n"
   ]
  },
  {
   "cell_type": "code",
   "execution_count": 21,
   "metadata": {},
   "outputs": [
    {
     "data": {
      "text/html": [
       "<div>\n",
       "<style scoped>\n",
       "    .dataframe tbody tr th:only-of-type {\n",
       "        vertical-align: middle;\n",
       "    }\n",
       "\n",
       "    .dataframe tbody tr th {\n",
       "        vertical-align: top;\n",
       "    }\n",
       "\n",
       "    .dataframe thead th {\n",
       "        text-align: right;\n",
       "    }\n",
       "</style>\n",
       "<table border=\"1\" class=\"dataframe\">\n",
       "  <thead>\n",
       "    <tr style=\"text-align: right;\">\n",
       "      <th></th>\n",
       "      <th>Pj</th>\n",
       "      <th>Etaj</th>\n",
       "      <th>Phij</th>\n",
       "      <th>Pa1</th>\n",
       "      <th>Etaa1</th>\n",
       "      <th>Phia1</th>\n",
       "      <th>Pl</th>\n",
       "      <th>Etal</th>\n",
       "      <th>Phil</th>\n",
       "      <th>Pb</th>\n",
       "      <th>Etab</th>\n",
       "      <th>Phib</th>\n",
       "      <th>Mbl</th>\n",
       "      <th>Maa</th>\n",
       "      <th>DRbl</th>\n",
       "      <th>DRba</th>\n",
       "      <th>DRbj</th>\n",
       "      <th>DRla</th>\n",
       "    </tr>\n",
       "  </thead>\n",
       "  <tbody>\n",
       "    <tr>\n",
       "      <th>0</th>\n",
       "      <td>50.062954</td>\n",
       "      <td>-2.042015</td>\n",
       "      <td>2.029564</td>\n",
       "      <td>68.080696</td>\n",
       "      <td>1.391315</td>\n",
       "      <td>0.398145</td>\n",
       "      <td>53.381069</td>\n",
       "      <td>1.683079</td>\n",
       "      <td>-2.284713</td>\n",
       "      <td>38.497223</td>\n",
       "      <td>0.600497</td>\n",
       "      <td>1.259536</td>\n",
       "      <td>103.141938</td>\n",
       "      <td>NaN</td>\n",
       "      <td>3.705898</td>\n",
       "      <td>1.169354</td>\n",
       "      <td>48.874907</td>\n",
       "      <td>2.698676</td>\n",
       "    </tr>\n",
       "    <tr>\n",
       "      <th>1</th>\n",
       "      <td>235.636414</td>\n",
       "      <td>-0.588211</td>\n",
       "      <td>-0.665452</td>\n",
       "      <td>110.044373</td>\n",
       "      <td>0.170553</td>\n",
       "      <td>-2.571864</td>\n",
       "      <td>76.562752</td>\n",
       "      <td>-0.724046</td>\n",
       "      <td>2.276778</td>\n",
       "      <td>62.707069</td>\n",
       "      <td>0.702828</td>\n",
       "      <td>-0.082298</td>\n",
       "      <td>167.363535</td>\n",
       "      <td>96.029950</td>\n",
       "      <td>2.757029</td>\n",
       "      <td>2.545831</td>\n",
       "      <td>235.722247</td>\n",
       "      <td>4.930481</td>\n",
       "    </tr>\n",
       "    <tr>\n",
       "      <th>2</th>\n",
       "      <td>65.488548</td>\n",
       "      <td>-0.052227</td>\n",
       "      <td>-0.145726</td>\n",
       "      <td>30.291250</td>\n",
       "      <td>-0.287589</td>\n",
       "      <td>-0.700162</td>\n",
       "      <td>65.043633</td>\n",
       "      <td>-0.298946</td>\n",
       "      <td>2.834360</td>\n",
       "      <td>55.995495</td>\n",
       "      <td>-1.718535</td>\n",
       "      <td>2.856480</td>\n",
       "      <td>93.227833</td>\n",
       "      <td>NaN</td>\n",
       "      <td>1.419761</td>\n",
       "      <td>3.833707</td>\n",
       "      <td>62.654230</td>\n",
       "      <td>3.534540</td>\n",
       "    </tr>\n",
       "    <tr>\n",
       "      <th>3</th>\n",
       "      <td>82.636620</td>\n",
       "      <td>-2.414608</td>\n",
       "      <td>-0.182585</td>\n",
       "      <td>106.799934</td>\n",
       "      <td>1.689907</td>\n",
       "      <td>2.314360</td>\n",
       "      <td>NaN</td>\n",
       "      <td>NaN</td>\n",
       "      <td>NaN</td>\n",
       "      <td>70.251236</td>\n",
       "      <td>1.370574</td>\n",
       "      <td>0.225428</td>\n",
       "      <td>NaN</td>\n",
       "      <td>NaN</td>\n",
       "      <td>NaN</td>\n",
       "      <td>2.113199</td>\n",
       "      <td>82.498073</td>\n",
       "      <td>NaN</td>\n",
       "    </tr>\n",
       "    <tr>\n",
       "      <th>4</th>\n",
       "      <td>58.564472</td>\n",
       "      <td>-1.598550</td>\n",
       "      <td>-2.562076</td>\n",
       "      <td>57.377258</td>\n",
       "      <td>-1.911268</td>\n",
       "      <td>1.029761</td>\n",
       "      <td>62.213867</td>\n",
       "      <td>1.952431</td>\n",
       "      <td>0.508091</td>\n",
       "      <td>36.530792</td>\n",
       "      <td>-1.646614</td>\n",
       "      <td>-1.999282</td>\n",
       "      <td>294.778178</td>\n",
       "      <td>190.623298</td>\n",
       "      <td>4.386347</td>\n",
       "      <td>3.040582</td>\n",
       "      <td>60.563773</td>\n",
       "      <td>3.898757</td>\n",
       "    </tr>\n",
       "    <tr>\n",
       "      <th>...</th>\n",
       "      <td>...</td>\n",
       "      <td>...</td>\n",
       "      <td>...</td>\n",
       "      <td>...</td>\n",
       "      <td>...</td>\n",
       "      <td>...</td>\n",
       "      <td>...</td>\n",
       "      <td>...</td>\n",
       "      <td>...</td>\n",
       "      <td>...</td>\n",
       "      <td>...</td>\n",
       "      <td>...</td>\n",
       "      <td>...</td>\n",
       "      <td>...</td>\n",
       "      <td>...</td>\n",
       "      <td>...</td>\n",
       "      <td>...</td>\n",
       "      <td>...</td>\n",
       "    </tr>\n",
       "    <tr>\n",
       "      <th>4995</th>\n",
       "      <td>238.690216</td>\n",
       "      <td>0.974216</td>\n",
       "      <td>-2.374663</td>\n",
       "      <td>98.009483</td>\n",
       "      <td>-0.408732</td>\n",
       "      <td>0.792305</td>\n",
       "      <td>79.642960</td>\n",
       "      <td>0.207284</td>\n",
       "      <td>1.129869</td>\n",
       "      <td>139.327621</td>\n",
       "      <td>-2.520621</td>\n",
       "      <td>-2.011492</td>\n",
       "      <td>439.006948</td>\n",
       "      <td>64.035286</td>\n",
       "      <td>4.160483</td>\n",
       "      <td>3.510179</td>\n",
       "      <td>240.727079</td>\n",
       "      <td>0.702442</td>\n",
       "    </tr>\n",
       "    <tr>\n",
       "      <th>4996</th>\n",
       "      <td>225.237518</td>\n",
       "      <td>-1.855501</td>\n",
       "      <td>0.300113</td>\n",
       "      <td>84.276825</td>\n",
       "      <td>-1.949575</td>\n",
       "      <td>1.109065</td>\n",
       "      <td>285.557281</td>\n",
       "      <td>-1.044931</td>\n",
       "      <td>2.656069</td>\n",
       "      <td>172.275635</td>\n",
       "      <td>1.702436</td>\n",
       "      <td>-1.193276</td>\n",
       "      <td>919.490734</td>\n",
       "      <td>35.256080</td>\n",
       "      <td>4.729215</td>\n",
       "      <td>4.317170</td>\n",
       "      <td>226.458746</td>\n",
       "      <td>1.792095</td>\n",
       "    </tr>\n",
       "    <tr>\n",
       "      <th>4997</th>\n",
       "      <td>266.553223</td>\n",
       "      <td>-0.716239</td>\n",
       "      <td>2.347347</td>\n",
       "      <td>136.946304</td>\n",
       "      <td>-0.614621</td>\n",
       "      <td>-0.808631</td>\n",
       "      <td>39.233036</td>\n",
       "      <td>-0.829222</td>\n",
       "      <td>-1.800497</td>\n",
       "      <td>120.634819</td>\n",
       "      <td>-1.817235</td>\n",
       "      <td>-0.387916</td>\n",
       "      <td>114.052188</td>\n",
       "      <td>312.919079</td>\n",
       "      <td>1.723819</td>\n",
       "      <td>1.274080</td>\n",
       "      <td>266.943409</td>\n",
       "      <td>1.014816</td>\n",
       "    </tr>\n",
       "    <tr>\n",
       "      <th>4998</th>\n",
       "      <td>493.852295</td>\n",
       "      <td>1.597646</td>\n",
       "      <td>-0.942062</td>\n",
       "      <td>39.686207</td>\n",
       "      <td>1.349830</td>\n",
       "      <td>0.886432</td>\n",
       "      <td>NaN</td>\n",
       "      <td>NaN</td>\n",
       "      <td>NaN</td>\n",
       "      <td>134.995758</td>\n",
       "      <td>0.874554</td>\n",
       "      <td>-1.334674</td>\n",
       "      <td>NaN</td>\n",
       "      <td>36.910442</td>\n",
       "      <td>NaN</td>\n",
       "      <td>2.271387</td>\n",
       "      <td>495.187497</td>\n",
       "      <td>NaN</td>\n",
       "    </tr>\n",
       "    <tr>\n",
       "      <th>4999</th>\n",
       "      <td>82.680115</td>\n",
       "      <td>1.243661</td>\n",
       "      <td>-0.116095</td>\n",
       "      <td>41.530716</td>\n",
       "      <td>0.129902</td>\n",
       "      <td>1.522071</td>\n",
       "      <td>NaN</td>\n",
       "      <td>NaN</td>\n",
       "      <td>NaN</td>\n",
       "      <td>78.127083</td>\n",
       "      <td>0.066120</td>\n",
       "      <td>-1.778306</td>\n",
       "      <td>NaN</td>\n",
       "      <td>78.375367</td>\n",
       "      <td>NaN</td>\n",
       "      <td>3.300993</td>\n",
       "      <td>84.466629</td>\n",
       "      <td>NaN</td>\n",
       "    </tr>\n",
       "  </tbody>\n",
       "</table>\n",
       "<p>5000 rows × 18 columns</p>\n",
       "</div>"
      ],
      "text/plain": [
       "              Pj      Etaj      Phij         Pa1     Etaa1     Phia1  \\\n",
       "0      50.062954 -2.042015  2.029564   68.080696  1.391315  0.398145   \n",
       "1     235.636414 -0.588211 -0.665452  110.044373  0.170553 -2.571864   \n",
       "2      65.488548 -0.052227 -0.145726   30.291250 -0.287589 -0.700162   \n",
       "3      82.636620 -2.414608 -0.182585  106.799934  1.689907  2.314360   \n",
       "4      58.564472 -1.598550 -2.562076   57.377258 -1.911268  1.029761   \n",
       "...          ...       ...       ...         ...       ...       ...   \n",
       "4995  238.690216  0.974216 -2.374663   98.009483 -0.408732  0.792305   \n",
       "4996  225.237518 -1.855501  0.300113   84.276825 -1.949575  1.109065   \n",
       "4997  266.553223 -0.716239  2.347347  136.946304 -0.614621 -0.808631   \n",
       "4998  493.852295  1.597646 -0.942062   39.686207  1.349830  0.886432   \n",
       "4999   82.680115  1.243661 -0.116095   41.530716  0.129902  1.522071   \n",
       "\n",
       "              Pl      Etal      Phil          Pb      Etab      Phib  \\\n",
       "0      53.381069  1.683079 -2.284713   38.497223  0.600497  1.259536   \n",
       "1      76.562752 -0.724046  2.276778   62.707069  0.702828 -0.082298   \n",
       "2      65.043633 -0.298946  2.834360   55.995495 -1.718535  2.856480   \n",
       "3            NaN       NaN       NaN   70.251236  1.370574  0.225428   \n",
       "4      62.213867  1.952431  0.508091   36.530792 -1.646614 -1.999282   \n",
       "...          ...       ...       ...         ...       ...       ...   \n",
       "4995   79.642960  0.207284  1.129869  139.327621 -2.520621 -2.011492   \n",
       "4996  285.557281 -1.044931  2.656069  172.275635  1.702436 -1.193276   \n",
       "4997   39.233036 -0.829222 -1.800497  120.634819 -1.817235 -0.387916   \n",
       "4998         NaN       NaN       NaN  134.995758  0.874554 -1.334674   \n",
       "4999         NaN       NaN       NaN   78.127083  0.066120 -1.778306   \n",
       "\n",
       "             Mbl         Maa      DRbl      DRba        DRbj      DRla  \n",
       "0     103.141938         NaN  3.705898  1.169354   48.874907  2.698676  \n",
       "1     167.363535   96.029950  2.757029  2.545831  235.722247  4.930481  \n",
       "2      93.227833         NaN  1.419761  3.833707   62.654230  3.534540  \n",
       "3            NaN         NaN       NaN  2.113199   82.498073       NaN  \n",
       "4     294.778178  190.623298  4.386347  3.040582   60.563773  3.898757  \n",
       "...          ...         ...       ...       ...         ...       ...  \n",
       "4995  439.006948   64.035286  4.160483  3.510179  240.727079  0.702442  \n",
       "4996  919.490734   35.256080  4.729215  4.317170  226.458746  1.792095  \n",
       "4997  114.052188  312.919079  1.723819  1.274080  266.943409  1.014816  \n",
       "4998         NaN   36.910442       NaN  2.271387  495.187497       NaN  \n",
       "4999         NaN   78.375367       NaN  3.300993   84.466629       NaN  \n",
       "\n",
       "[5000 rows x 18 columns]"
      ]
     },
     "execution_count": 21,
     "metadata": {},
     "output_type": "execute_result"
    }
   ],
   "source": [
    "BG_2"
   ]
  },
  {
   "cell_type": "code",
   "execution_count": 22,
   "metadata": {},
   "outputs": [],
   "source": [
    "BG_2.to_csv('BG2_b.csv', index=False) "
   ]
  },
  {
   "cell_type": "code",
   "execution_count": null,
   "metadata": {},
   "outputs": [],
   "source": []
  }
 ],
 "metadata": {
  "kernelspec": {
   "display_name": "Python 3",
   "language": "python",
   "name": "python3"
  },
  "language_info": {
   "codemirror_mode": {
    "name": "ipython",
    "version": 3
   },
   "file_extension": ".py",
   "mimetype": "text/x-python",
   "name": "python",
   "nbconvert_exporter": "python",
   "pygments_lexer": "ipython3",
   "version": "3.8.10"
  }
 },
 "nbformat": 4,
 "nbformat_minor": 4
}
